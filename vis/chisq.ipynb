{
 "cells": [
  {
   "cell_type": "markdown",
   "metadata": {},
   "source": [
    "# Chi-squared values \n",
    "\n",
    "Here I calculate chisq values for any subset of the data in the thesis. "
   ]
  },
  {
   "cell_type": "code",
   "execution_count": 1,
   "metadata": {},
   "outputs": [],
   "source": [
    "import numpy as np \n",
    "import pandas as pd\n",
    "from os.path import join \n",
    "import glob \n",
    "from scipy.stats import chi2_contingency \n",
    "import sys\n",
    "\n",
    "DATA_DIR = \"/ritter/share/data/IMAGEN\"\n",
    "\n",
    "# Local imports\n",
    "sys.path.insert(1, \"../analysis\")\n",
    "from mri_learn_quick import MRILearn, shuffle_y, pbcc\n",
    "from confounds import *"
   ]
  },
  {
   "cell_type": "code",
   "execution_count": 2,
   "metadata": {},
   "outputs": [],
   "source": [
    "def chisq(df, col0, col1):\n",
    "    return chi2_contingency(pd.crosstab(df[col0], df[col1]))[0:2]"
   ]
  },
  {
   "cell_type": "markdown",
   "metadata": {},
   "source": [
    "# Identification "
   ]
  },
  {
   "cell_type": "code",
   "execution_count": 3,
   "metadata": {},
   "outputs": [],
   "source": [
    "dfid = pd.read_csv(join(DATA_DIR, \"h5files/ESPAD19a_01_56/fs-stats/fs-stats_FU2-FU2_n789.csv\")).assign(setting=\"id\")"
   ]
  },
  {
   "cell_type": "code",
   "execution_count": 4,
   "metadata": {},
   "outputs": [
    {
     "data": {
      "text/plain": [
       "(155.6776979401473, 2.6026959369199047e-30)"
      ]
     },
     "execution_count": 4,
     "metadata": {},
     "output_type": "execute_result"
    }
   ],
   "source": [
    "chisq(dfid, \"center\", \"label\")"
   ]
  },
  {
   "cell_type": "code",
   "execution_count": 5,
   "metadata": {},
   "outputs": [
    {
     "data": {
      "text/plain": [
       "(32.94329365577108, 9.488649742065925e-09)"
      ]
     },
     "execution_count": 5,
     "metadata": {},
     "output_type": "execute_result"
    }
   ],
   "source": [
    "chisq(dfid, \"label\", \"sex\")"
   ]
  },
  {
   "cell_type": "code",
   "execution_count": 6,
   "metadata": {},
   "outputs": [],
   "source": [
    "dfid0 = dfid.query(\"sex == 0\")\n",
    "dfid1 = dfid.query(\"sex == 1\")"
   ]
  },
  {
   "cell_type": "code",
   "execution_count": 7,
   "metadata": {},
   "outputs": [
    {
     "data": {
      "text/plain": [
       "(70.25015819471867, 1.3150642489913371e-12)"
      ]
     },
     "execution_count": 7,
     "metadata": {},
     "output_type": "execute_result"
    }
   ],
   "source": [
    "chisq(dfid0, \"label\", \"center\")"
   ]
  },
  {
   "cell_type": "code",
   "execution_count": 8,
   "metadata": {},
   "outputs": [
    {
     "data": {
      "text/plain": [
       "(0.0, 1.0)"
      ]
     },
     "execution_count": 8,
     "metadata": {},
     "output_type": "execute_result"
    }
   ],
   "source": [
    "chisq(dfid1, \"label\", \"sex\")"
   ]
  },
  {
   "cell_type": "code",
   "execution_count": 9,
   "metadata": {},
   "outputs": [
    {
     "data": {
      "text/plain": [
       "(94.85031768751665, 1.2444175029929092e-17)"
      ]
     },
     "execution_count": 9,
     "metadata": {},
     "output_type": "execute_result"
    }
   ],
   "source": [
    "chisq(dfid1, \"label\", \"center\")"
   ]
  },
  {
   "cell_type": "markdown",
   "metadata": {},
   "source": [
    "# Prediction"
   ]
  },
  {
   "cell_type": "code",
   "execution_count": 10,
   "metadata": {},
   "outputs": [
    {
     "data": {
      "text/plain": [
       "(94.07483251723178, 1.79737097180415e-17)"
      ]
     },
     "execution_count": 10,
     "metadata": {},
     "output_type": "execute_result"
    }
   ],
   "source": [
    "dfpr = pd.read_csv(join(DATA_DIR, \"h5files/ESPAD19a_01_56/fs-stats/fs-stats_BL-FU2_n507.csv\")).assign(setting=\"pr\")\n",
    "chisq(dfpr, \"center\", \"label\")"
   ]
  },
  {
   "cell_type": "code",
   "execution_count": 11,
   "metadata": {},
   "outputs": [
    {
     "data": {
      "text/plain": [
       "(27.296319716735503, 1.7454330890452667e-07)"
      ]
     },
     "execution_count": 11,
     "metadata": {},
     "output_type": "execute_result"
    }
   ],
   "source": [
    "chisq(dfpr, \"sex\", \"label\")"
   ]
  },
  {
   "cell_type": "code",
   "execution_count": 12,
   "metadata": {},
   "outputs": [],
   "source": [
    "dfpr0 = dfpr.query(\"sex == 0\")\n",
    "dfpr1 = dfpr.query(\"sex == 1\")"
   ]
  },
  {
   "cell_type": "code",
   "execution_count": 13,
   "metadata": {},
   "outputs": [
    {
     "data": {
      "text/plain": [
       "(39.55430178768702, 1.5317675660727557e-06)"
      ]
     },
     "execution_count": 13,
     "metadata": {},
     "output_type": "execute_result"
    }
   ],
   "source": [
    "chisq(dfpr0, \"label\", \"center\")"
   ]
  },
  {
   "cell_type": "code",
   "execution_count": 14,
   "metadata": {},
   "outputs": [
    {
     "data": {
      "text/plain": [
       "(65.8312055842272, 1.0234630416391106e-11)"
      ]
     },
     "execution_count": 14,
     "metadata": {},
     "output_type": "execute_result"
    }
   ],
   "source": [
    "chisq(dfpr1, \"label\", \"center\")"
   ]
  },
  {
   "cell_type": "markdown",
   "metadata": {},
   "source": [
    "# CB"
   ]
  },
  {
   "cell_type": "code",
   "execution_count": 15,
   "metadata": {},
   "outputs": [
    {
     "name": "stdout",
     "output_type": "stream",
     "text": [
      "GROUPS [] ONLY HAVE ONE MEMBER, DELETING THEM, TOO.\n"
     ]
    }
   ],
   "source": [
    "random_state = np.load(\"../analysis/random_states.npy\")[0]\n",
    "\n",
    "params = {\n",
    "    #\"data_dir\" : join(DATA_DIR, \"h5files/ESPAD19a_01_56/fs-stats/fs-stats_FU2-FU2_n789.h5\"),\n",
    "    \"data_dir\" :join(DATA_DIR, \"h5files/ESPAD19a_01_56/fs-stats/fs-stats_BL-FU2_n507.h5\"),\n",
    "    \"verbose\" : 3, \n",
    "    \"n_jobs\" : 10, \n",
    "    \"conf_list\" : [\"c\", \"s\", \"group\"]\n",
    "}\n",
    "\n",
    "m = MRILearn(params)\n",
    "m.load_data()\n",
    "\n",
    "cb = CounterBalance(m.conf_dict[\"s\"], random_state)\n",
    "m.X = cb.fit_transform(m.X, m.y)\n",
    "m.y = cb.transform(m.y)\n",
    "m.conf_dict[\"c\"] = cb.transform(m.conf_dict[\"c\"])\n",
    "m.conf_dict[\"s\"] = cb.transform(m.conf_dict[\"s\"])\n",
    "m.conf_dict[\"group\"] = cb.transform(m.conf_dict[\"group\"])"
   ]
  },
  {
   "cell_type": "code",
   "execution_count": 18,
   "metadata": {},
   "outputs": [
    {
     "data": {
      "text/plain": [
       "(96.23097926837636, 6.464248373959242e-18)"
      ]
     },
     "execution_count": 18,
     "metadata": {},
     "output_type": "execute_result"
    }
   ],
   "source": [
    "df = pd.DataFrame({\n",
    "    \"label\" : m.y, \n",
    "    \"center\" : m.conf_dict[\"c\"], \n",
    "    \"sex\" : m.conf_dict[\"s\"]\n",
    "})\n",
    "\n",
    "\n",
    "chisq(df, \"label\", \"center\")"
   ]
  },
  {
   "cell_type": "code",
   "execution_count": 19,
   "metadata": {},
   "outputs": [
    {
     "data": {
      "text/plain": [
       "(0.0, 1.0)"
      ]
     },
     "execution_count": 19,
     "metadata": {},
     "output_type": "execute_result"
    }
   ],
   "source": [
    "chisq(df, \"label\", \"sex\")"
   ]
  }
 ],
 "metadata": {
  "kernelspec": {
   "display_name": "Python 3",
   "language": "python",
   "name": "python3"
  },
  "language_info": {
   "codemirror_mode": {
    "name": "ipython",
    "version": 3
   },
   "file_extension": ".py",
   "mimetype": "text/x-python",
   "name": "python",
   "nbconvert_exporter": "python",
   "pygments_lexer": "ipython3",
   "version": "3.7.9"
  }
 },
 "nbformat": 4,
 "nbformat_minor": 4
}
