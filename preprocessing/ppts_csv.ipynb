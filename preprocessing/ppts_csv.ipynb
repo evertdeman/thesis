{
 "cells": [
  {
   "cell_type": "markdown",
   "metadata": {},
   "source": [
    "# Participants.csv maker\n",
    "\n",
    "This notebook lets you create a participants.csv file of any [BIDS](https://bids.neuroimaging.io/) folder."
   ]
  },
  {
   "cell_type": "code",
   "execution_count": 4,
   "metadata": {},
   "outputs": [],
   "source": [
    "import pandas as pd\n",
    "import os\n",
    "from os.path import join \n",
    "import glob\n",
    "\n",
    "DATA_DIR = \"/ritter/share/data/IMAGEN\""
   ]
  },
  {
   "cell_type": "code",
   "execution_count": 2,
   "metadata": {},
   "outputs": [],
   "source": [
    "class PPTS:\n",
    "    def __init__(self, path):\n",
    "        self.path = path\n",
    "        \n",
    "    def make_df(self):\n",
    "        files = glob.glob(join(self.path, \"**/*_warped.nii.gz\"), recursive=True)\n",
    "        print(\"There are {} files in the directory.\".format(len(files)))\n",
    "        \n",
    "        df = pd.DataFrame(columns = [\"ID\", \"time_point\", \"anat_func\", \"file_name\", \"path\"])\n",
    "        \n",
    "        for i in range(len(files)): \n",
    "            file = files[i]\n",
    "            x = file.split(\"/\")\n",
    "\n",
    "            df = df.append({\n",
    "                \"path\" : files[i],\n",
    "                \"ID\" : x[6].replace(\"sub-\", \"\"), \n",
    "                \"file_name\" : x[-1], \n",
    "                \"time_point\" : x[7], \n",
    "                \"anat_func\" : x[8]\n",
    "            }\n",
    "                , ignore_index=True)\n",
    "            \n",
    "        self.df = df\n",
    "    \n",
    "    def add_center(self):\n",
    "        tc = pd.read_csv(join(DATA_DIR, \"qs/FU3/participants/IMAGEN_demographics.csv\"), dtype={\"PSC2\":str})\n",
    "        tc = tc.rename(columns={\"PSC2\" : \"ID\", \"recruitment centre\":\"center\"})\n",
    "\n",
    "        # Introduce a test centre code \n",
    "        d = {\n",
    "            \"BERLIN\" : 1, \n",
    "            \"DRESDEN\" : 2,\n",
    "            \"DUBLIN\" : 3, \n",
    "            \"HAMBURG\" : 4, \n",
    "            \"LONDON\" : 5, \n",
    "            \"MANNHEIM\" : 6, \n",
    "            \"NOTTINGHAM\" : 7, \n",
    "            \"PARIS\" : 8\n",
    "        }\n",
    "\n",
    "        tc[\"center_code\"] = tc[\"center\"].map(d)\n",
    "        self.df = pd.merge(self.df, tc, how=\"left\")\n",
    "        \n",
    "    def add_gender(self):\n",
    "        gh = pd.read_csv(join(DATA_DIR, \"qs/subjects.csv\"), sep=\";\", dtype={\"code_in_study\":str})\n",
    "        gh = gh.rename(columns={\"code_in_study\":\"ID\"})\n",
    "        gh = gh[[\"ID\", \"gender\", \"handedness\"]]\n",
    "        #gh = gh.query(\"handedness == 'right'\")\n",
    "        self.df = pd.merge(self.df, gh, how=\"left\")\n",
    "        \n",
    "    def add_y(self, file_names, q_number):\n",
    "        \n",
    "        # Create new unit\n",
    "        df_y = pd.DataFrame(columns=[\"ID\"])\n",
    "        \n",
    "        # Open the three ESPAD files \n",
    "        for tp, file in zip([\"BL\", \"FU1\", \"FU2\", \"FU3\"], file_names):\n",
    "            df = pd.read_csv(join(DATA_DIR, file), dtype={\"User code\":str})\n",
    "            df = df.rename(columns={\"User code\" : \"ID\"})\n",
    "            #if \"Valid\" in list(df):\n",
    "            #    df = df.query(\"Valid == 't'\")\n",
    "            df.ID = df.ID.str.replace(\"-C\", \"\")\n",
    "            df = df[[\"ID\", q_number]]\n",
    "            df = df.rename(columns={q_number : \"y\"+tp})\n",
    "            df_y = pd.merge(df_y, df, how=\"outer\")\n",
    "        \n",
    "        self.df = pd.merge(self.df, df_y, \"left\")\n",
    "        \n",
    "    \n",
    "    def save_csv(self):\n",
    "        self.df.to_csv(join(self.path, \"participants.csv\"), sep=\",\", index=False)"
   ]
  },
  {
   "cell_type": "code",
   "execution_count": 3,
   "metadata": {},
   "outputs": [
    {
     "name": "stdout",
     "output_type": "stream",
     "text": [
      "There are 4680 files in the directory.\n"
     ]
    }
   ],
   "source": [
    "# The path should be the BIDS folder you want to make a ppts csv for\n",
    "path = join(DATA_DIR, \"IMAGEN_prep-brainmask_BIDS\")\n",
    "\n",
    "ppts = PPTS(path)\n",
    "ppts.make_df()\n",
    "ppts.add_gender()\n",
    "ppts.add_center()\n",
    "ppts.save_csv()"
   ]
  }
 ],
 "metadata": {
  "kernelspec": {
   "display_name": "Python 3",
   "language": "python",
   "name": "python3"
  },
  "language_info": {
   "codemirror_mode": {
    "name": "ipython",
    "version": 3
   },
   "file_extension": ".py",
   "mimetype": "text/x-python",
   "name": "python",
   "nbconvert_exporter": "python",
   "pygments_lexer": "ipython3",
   "version": "3.7.9"
  }
 },
 "nbformat": 4,
 "nbformat_minor": 4
}
