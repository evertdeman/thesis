{
 "cells": [
  {
   "cell_type": "markdown",
   "metadata": {},
   "source": [
    "# BIDS mover\n",
    "\n",
    "The goal of this notebook is to move raw, unpreprocessed files (for instance MPRAGE of Freesurfer nifti files) into the [BIDS](https://bids.neuroimaging.io/) format.\n",
    "\n",
    "Steps:\n",
    "1. Create a table with the new and old location of all files;\n",
    "2. Move the files to the new location."
   ]
  },
  {
   "cell_type": "code",
   "execution_count": 1,
   "metadata": {},
   "outputs": [],
   "source": [
    "import pandas as pd\n",
    "import os \n",
    "from os.path import join \n",
    "import glob\n",
    "import multiprocessing as mp\n",
    "\n",
    "DATA_DIR = \"/ritter/share/data/IMAGEN\""
   ]
  },
  {
   "cell_type": "markdown",
   "metadata": {},
   "source": [
    "## 1. Create csv with old and new path "
   ]
  },
  {
   "cell_type": "code",
   "execution_count": 2,
   "metadata": {},
   "outputs": [],
   "source": [
    "# List (for instance) all Freesurfer brainmask files in the raw data\n",
    "files = glob.glob(join(DATA_DIR, \"IMAGEN_RAW/2.7/*/imaging/freesurfer/*/mri/brainmask.mgz\"), recursive=True)"
   ]
  },
  {
   "cell_type": "code",
   "execution_count": 3,
   "metadata": {},
   "outputs": [],
   "source": [
    "# New df for storing everything about the subjects\n",
    "df = pd.DataFrame(columns = [\"ID\", \"time_point\", \"anat_func\", \"file_name\", \"path\", \"old_path\", \"dir\"])\n",
    "\n",
    "for i in range(len(files)): \n",
    "    file = files[i]\n",
    "    x = file.split(\"/\")\n",
    "    \n",
    "    subject = x[10]\n",
    "    time_point = x[7]\n",
    "    \n",
    "    new_file_name = \"sub-{}_ses-{}_fs-brainmask_T1w.mgz\".format(subject, time_point)\n",
    "    new_dir = join(DATA_DIR, \"IMAGEN_freesurfer_BIDS\", \"sub-{}\".format(subject), time_point, \"anat\")\n",
    "    new_path = join(new_dir, new_file_name)\n",
    "    \n",
    "    \n",
    "    df = df.append({\n",
    "        \"path\" : new_path,\n",
    "        \"old_path\" : file, \n",
    "        \"ID\" : subject, \n",
    "        \"file_name\" : x[-1], \n",
    "        \"time_point\" : time_point, \n",
    "        \"anat_func\" : \"anat\", \n",
    "        \"dir\" : new_dir\n",
    "    }\n",
    "        , ignore_index=True)"
   ]
  },
  {
   "cell_type": "code",
   "execution_count": 4,
   "metadata": {},
   "outputs": [
    {
     "data": {
      "text/plain": [
       "BL     2088\n",
       "FU2    1413\n",
       "FU3    1179\n",
       "Name: time_point, dtype: int64"
      ]
     },
     "execution_count": 4,
     "metadata": {},
     "output_type": "execute_result"
    }
   ],
   "source": [
    "df.time_point.value_counts()"
   ]
  },
  {
   "cell_type": "code",
   "execution_count": 5,
   "metadata": {},
   "outputs": [],
   "source": [
    "# Save the obtained table as a participants.csv file in the new BIDS folder\n",
    "df.to_csv(join(DATA_DIR, \"IMAGEN_freesurfer_BIDS\", \"participants_brainmask.csv\"))"
   ]
  },
  {
   "cell_type": "markdown",
   "metadata": {},
   "source": [
    "## 2. Move the files into their new BIDS directories"
   ]
  },
  {
   "cell_type": "code",
   "execution_count": 23,
   "metadata": {},
   "outputs": [],
   "source": [
    "old_paths = df.old_path.tolist()\n",
    "paths = df.path.tolist()\n",
    "\n",
    "def wrapper(i):\n",
    "    new_dir = os.path.dirname(paths[i])\n",
    "    if not os.path.exists(new_dir):\n",
    "        os.makedirs(new_dir)\n",
    "    os.system(\"cp {} {}\".format(old_paths[i], paths[i]))\n",
    "\n",
    "with mp.Pool(5) as p:\n",
    "    p.map(wrapper, range(len(paths)))"
   ]
  },
  {
   "cell_type": "code",
   "execution_count": 24,
   "metadata": {},
   "outputs": [
    {
     "name": "stdout",
     "output_type": "stream",
     "text": [
      "Checked 4680 files.\n"
     ]
    }
   ],
   "source": [
    "# Check if everything went right \n",
    "\n",
    "for i, path in enumerate(paths):\n",
    "    if not os.path.isfile(path):\n",
    "        print(\"Could not find {}\".format(path))\n",
    "        \n",
    "        \n",
    "print(\"Checked {} files.\".format(i+1))"
   ]
  }
 ],
 "metadata": {
  "kernelspec": {
   "display_name": "Python 3",
   "language": "python",
   "name": "python3"
  },
  "language_info": {
   "codemirror_mode": {
    "name": "ipython",
    "version": 3
   },
   "file_extension": ".py",
   "mimetype": "text/x-python",
   "name": "python",
   "nbconvert_exporter": "python",
   "pygments_lexer": "ipython3",
   "version": "3.7.9"
  }
 },
 "nbformat": 4,
 "nbformat_minor": 4
}
